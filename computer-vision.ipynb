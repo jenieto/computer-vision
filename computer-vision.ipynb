{
  "nbformat": 4,
  "nbformat_minor": 0,
  "metadata": {
    "kernelspec": {
      "display_name": "Python 3",
      "language": "python",
      "name": "python3"
    },
    "language_info": {
      "codemirror_mode": {
        "name": "ipython",
        "version": 3
      },
      "file_extension": ".py",
      "mimetype": "text/x-python",
      "name": "python",
      "nbconvert_exporter": "python",
      "pygments_lexer": "ipython3",
      "version": "3.7.3"
    },
    "colab": {
      "name": "Test.ipynb",
      "provenance": [],
      "include_colab_link": true
    }
  },
  "cells": [
    {
      "cell_type": "markdown",
      "metadata": {
        "id": "view-in-github",
        "colab_type": "text"
      },
      "source": [
        "<a href=\"https://colab.research.google.com/github/jenieto/computer-vision/blob/normalize-scikit-learn/computer-vision.ipynb\" target=\"_parent\"><img src=\"https://colab.research.google.com/assets/colab-badge.svg\" alt=\"Open In Colab\"/></a>"
      ]
    },
    {
      "cell_type": "markdown",
      "metadata": {
        "id": "4nzKF921nSpb",
        "colab_type": "text"
      },
      "source": [
        "Trabajo M0"
      ]
    },
    {
      "cell_type": "code",
      "metadata": {
        "id": "XuG171gUnSpc",
        "colab_type": "code",
        "colab": {}
      },
      "source": [
        "# Montamos Google Drive\n",
        "from google.colab import drive\n",
        "drive.mount('/content/drive/')\n",
        "!unzip -o \"/content/drive/My Drive/Datasets/computer-vision-M2.zip\" -d /content/"
      ],
      "execution_count": 0,
      "outputs": []
    },
    {
      "cell_type": "code",
      "metadata": {
        "id": "Q8WL4YNeGAkY",
        "colab_type": "code",
        "colab": {}
      },
      "source": [
        "# Importamos librerias\n",
        "import tensorflow as tf\n",
        "import pandas as pd\n",
        "import numpy as np\n",
        "import cv2\n",
        "import os\n",
        "import re\n",
        "from google.colab.patches import cv2_imshow\n",
        "from sklearn.model_selection import train_test_split\n",
        "from sklearn import preprocessing"
      ],
      "execution_count": 0,
      "outputs": []
    },
    {
      "cell_type": "code",
      "metadata": {
        "id": "HhYCoKhyGqi-",
        "colab_type": "code",
        "colab": {}
      },
      "source": [
        "# Definimos variables\n",
        "csv_path = '/content/computer-vision-M2/anotaciones_itemsEvaluables_v3.csv'\n",
        "images_path = '/content/computer-vision-M2/dataset1'\n",
        "figure = 'a1'\n",
        "image_shape = (512, 512, 1)\n",
        "test_dataset_size = 0.25"
      ],
      "execution_count": 0,
      "outputs": []
    },
    {
      "cell_type": "code",
      "metadata": {
        "id": "Fz1nGW1upVDO",
        "colab_type": "code",
        "colab": {}
      },
      "source": [
        "# Funciones para leer los datos\n",
        "def read_csv_data():\n",
        "  data = pd.read_csv(csv_path, sep=';', names=['dir', 'image', 'figure', 'coords'], index_col=False, skipinitialspace=True)\n",
        "  for key in data.keys():\n",
        "    data[key] = data[key].apply(str.replace, args=(' ', ''))\n",
        "  return data"
      ],
      "execution_count": 0,
      "outputs": []
    },
    {
      "cell_type": "code",
      "metadata": {
        "id": "3hvEx6y4Idud",
        "colab_type": "code",
        "colab": {
          "base_uri": "https://localhost:8080/",
          "height": 419
        },
        "outputId": "6a167f03-1ede-4433-97af-b87d7bec33f4"
      },
      "source": [
        "# Leemos los datos\n",
        "data = read_csv_data()\n",
        "data"
      ],
      "execution_count": 5,
      "outputs": [
        {
          "output_type": "execute_result",
          "data": {
            "text/html": [
              "<div>\n",
              "<style scoped>\n",
              "    .dataframe tbody tr th:only-of-type {\n",
              "        vertical-align: middle;\n",
              "    }\n",
              "\n",
              "    .dataframe tbody tr th {\n",
              "        vertical-align: top;\n",
              "    }\n",
              "\n",
              "    .dataframe thead th {\n",
              "        text-align: right;\n",
              "    }\n",
              "</style>\n",
              "<table border=\"1\" class=\"dataframe\">\n",
              "  <thead>\n",
              "    <tr style=\"text-align: right;\">\n",
              "      <th></th>\n",
              "      <th>dir</th>\n",
              "      <th>image</th>\n",
              "      <th>figure</th>\n",
              "      <th>coords</th>\n",
              "    </tr>\n",
              "  </thead>\n",
              "  <tbody>\n",
              "    <tr>\n",
              "      <th>0</th>\n",
              "      <td>REY_roi_manualSelection1</td>\n",
              "      <td>ROI_0_Psic_023Ev4.pdf_pg-26.jpg</td>\n",
              "      <td>a9</td>\n",
              "      <td>(209,334),(194,380)</td>\n",
              "    </tr>\n",
              "    <tr>\n",
              "      <th>1</th>\n",
              "      <td>REY_roi_manualSelection1</td>\n",
              "      <td>ROI_0_Psic_211Ev1.pdf_pg-27.jpg</td>\n",
              "      <td>a9</td>\n",
              "      <td>(86,288),(86,338)</td>\n",
              "    </tr>\n",
              "    <tr>\n",
              "      <th>2</th>\n",
              "      <td>REY_roi_manualSelection1</td>\n",
              "      <td>ROI_0_Psic_237Ev4.pdf_pg-24.jpg</td>\n",
              "      <td>a9</td>\n",
              "      <td>(187,126),(195,18),(302,124),(185,126)</td>\n",
              "    </tr>\n",
              "    <tr>\n",
              "      <th>3</th>\n",
              "      <td>REY_roi_manualSelection1</td>\n",
              "      <td>ROI_0_Psic_526Ev3.pdf_pg-23.jpg</td>\n",
              "      <td>a9</td>\n",
              "      <td>(156,107),(152,62),(182,80),(260,106),(154,108)</td>\n",
              "    </tr>\n",
              "    <tr>\n",
              "      <th>4</th>\n",
              "      <td>REY_roi_manualSelection1</td>\n",
              "      <td>ROI_0_Psic_440Ev2.pdf_pg-22.jpg</td>\n",
              "      <td>a9</td>\n",
              "      <td>(184,84),(193,22),(219,34),(246,50),(307,80),(...</td>\n",
              "    </tr>\n",
              "    <tr>\n",
              "      <th>...</th>\n",
              "      <td>...</td>\n",
              "      <td>...</td>\n",
              "      <td>...</td>\n",
              "      <td>...</td>\n",
              "    </tr>\n",
              "    <tr>\n",
              "      <th>5418</th>\n",
              "      <td>REY_roi_manualSelection1</td>\n",
              "      <td>ROI_0_Psic_517Ev3.pdf_pg-26.jpg</td>\n",
              "      <td>a1</td>\n",
              "      <td>(35,50)</td>\n",
              "    </tr>\n",
              "    <tr>\n",
              "      <th>5419</th>\n",
              "      <td>REY_roi_manualSelection1</td>\n",
              "      <td>ROI_0_Psic_408Ev2.pdf_pg-35.jpg</td>\n",
              "      <td>a1</td>\n",
              "      <td>(29,34)</td>\n",
              "    </tr>\n",
              "    <tr>\n",
              "      <th>5420</th>\n",
              "      <td>REY_roi_manualSelection1</td>\n",
              "      <td>ROI_0_Psic_210Ev5.pdf_pg-54.jpg</td>\n",
              "      <td>a1</td>\n",
              "      <td>(33,39)</td>\n",
              "    </tr>\n",
              "    <tr>\n",
              "      <th>5421</th>\n",
              "      <td>REY_roi_manualSelection1</td>\n",
              "      <td>ROI_0_Psic_514Ev3.pdf_pg-20.jpg</td>\n",
              "      <td>a1</td>\n",
              "      <td>(34,33)</td>\n",
              "    </tr>\n",
              "    <tr>\n",
              "      <th>5422</th>\n",
              "      <td>REY_roi_manualSelection1</td>\n",
              "      <td>ROI_90_Psic_037Ev4.pdf_pg-20.jpg</td>\n",
              "      <td>a1</td>\n",
              "      <td>(126,372)</td>\n",
              "    </tr>\n",
              "  </tbody>\n",
              "</table>\n",
              "<p>5423 rows × 4 columns</p>\n",
              "</div>"
            ],
            "text/plain": [
              "                           dir  ...                                             coords\n",
              "0     REY_roi_manualSelection1  ...                                (209,334),(194,380)\n",
              "1     REY_roi_manualSelection1  ...                                  (86,288),(86,338)\n",
              "2     REY_roi_manualSelection1  ...             (187,126),(195,18),(302,124),(185,126)\n",
              "3     REY_roi_manualSelection1  ...    (156,107),(152,62),(182,80),(260,106),(154,108)\n",
              "4     REY_roi_manualSelection1  ...  (184,84),(193,22),(219,34),(246,50),(307,80),(...\n",
              "...                        ...  ...                                                ...\n",
              "5418  REY_roi_manualSelection1  ...                                            (35,50)\n",
              "5419  REY_roi_manualSelection1  ...                                            (29,34)\n",
              "5420  REY_roi_manualSelection1  ...                                            (33,39)\n",
              "5421  REY_roi_manualSelection1  ...                                            (34,33)\n",
              "5422  REY_roi_manualSelection1  ...                                          (126,372)\n",
              "\n",
              "[5423 rows x 4 columns]"
            ]
          },
          "metadata": {
            "tags": []
          },
          "execution_count": 5
        }
      ]
    },
    {
      "cell_type": "code",
      "metadata": {
        "id": "s0GLzUrYKBlF",
        "colab_type": "code",
        "colab": {}
      },
      "source": [
        "# Inicializamos una intancia scaler\n",
        "scaler = preprocessing.StandardScaler()\n",
        "\n",
        "# Funcion para leer una imagen\n",
        "def read_image_and_label(row, type=0, n_points=1):\n",
        "  path = os.path.join(images_path, 'grafos_' + row['dir'], 'grafo_' + row['image'] + '.png')\n",
        "  raw = cv2.imread(path,0)\n",
        "  proc = None\n",
        "  label = None\n",
        "  if raw is not None: # TODO: algunas imagenes no existen\n",
        "    \n",
        "    shape = raw.shape\n",
        "\n",
        "    raw1 = raw[:shape[0]//2, :shape[1]//2] # Imagen original\n",
        "    raw2 = raw[:shape[0]//2, shape[1]//2:] # Imagen original invertida\n",
        "    raw3 = raw[shape[0]//2:, :shape[1]//2] # Imagen de grafos detalle alto\n",
        "    raw4 = raw[shape[0]//2:, shape[1]//2:] # Imagen de grafos detalle bajo\n",
        "\n",
        "    raw1 = cv2.resize(raw1, dsize=(image_shape[0], image_shape[1])) # TODO: tendremos que redimensionar los puntos tambien\n",
        "    raw2 = cv2.resize(raw2, dsize=(image_shape[0], image_shape[1]))\n",
        "    raw3 = cv2.resize(raw3, dsize=(image_shape[0], image_shape[1]))\n",
        "    raw4 = cv2.resize(raw4, dsize=(image_shape[0], image_shape[1]))\n",
        "    \n",
        "    proc1 = scaler.fit_transform(raw1)\n",
        "    proc2 = scaler.fit_transform(raw2)\n",
        "    proc3 = scaler.fit_transform(raw3)\n",
        "    proc4 = scaler.fit_transform(raw4)\n",
        "\n",
        "    if type == 0:\n",
        "      raw = raw2 # Sólo se usa la imagen original invertida\n",
        "      proc = proc2\n",
        "    elif type == 1:\n",
        "      raw = np.stack((raw2, raw3), axis=-1) # Se usa imagen original invertida + grafos alto detalle\n",
        "      proc = np.stack((proc2, proc3), axis=-1) # Se usa imagen original invertida + grafos alto detalle\n",
        "    elif type == 2:\n",
        "      raw = np.stack((raw2, raw3, raw4), axis=-1) # Se usa imagen original invertida + grafos alto detalle + grafos bajo detalle\n",
        "      proc = np.stack((proc2, proc3, proc4), axis=-1) # Se usa imagen original invertida + grafos alto detalle + grafos bajo detalle\n",
        "    raw = np.expand_dims(raw, axis=0)\n",
        "    proc = np.expand_dims(proc, axis=0)\n",
        "\n",
        "    # Leer coordenadas\n",
        "    flat = np.array([int(s) for s in re.findall('\\d+', row['coords'])]) # Parsea los números en el texto\n",
        "    mat = flat.reshape((-1, 2)) # Reagrupa las coordenadas en grupos de dos\n",
        "    if mat.shape[0] >= n_points:\n",
        "      label = (mat[:n_points, :] * np.array([image_shape[0] / shape[0], image_shape[1] / shape[1]])).flatten()\n",
        "      label = np.expand_dims(label, axis=0)\n",
        "\n",
        "  return raw_X, proc_X, raw_y, proc_y\n",
        "\n",
        "# Funcion que devuelve las imagenes y las coordenadas\n",
        "def read_images(data):\n",
        "  firstIteration = True\n",
        "  for _, row in data.iterrows():\n",
        "    raw, proc, label = read_image_and_label(row, 2)\n",
        "    if firstIteration == True:\n",
        "      raws = raw\n",
        "      X = proc\n",
        "      y = label\n",
        "      firstIteration = False\n",
        "    elif raw is not None and label is not None:\n",
        "      raws = np.concatenate((raws, raw), axis=0)\n",
        "      X = np.concatenate((X, proc), axis=0)\n",
        "      y = np.concatenate((y, label), axis=0)\n",
        "  # raws = np.expand_dims(np.array(raws), axis=-1)\n",
        "  # X = np.expand_dims(np.array(X), axis=-1)\n",
        "  # y = np.array(y)\n",
        "  return raws, X, y"
      ],
      "execution_count": 0,
      "outputs": []
    },
    {
      "cell_type": "code",
      "metadata": {
        "id": "_dDRK2mSLJ6E",
        "colab_type": "code",
        "colab": {
          "base_uri": "https://localhost:8080/",
          "height": 384
        },
        "outputId": "5f47e53e-fb31-44b0-a562-2e2dfaf086c0"
      },
      "source": [
        "# Generamos las imagenes y los outputs\n",
        "raws, X, y = read_images(data[data['figure'] == 'a1'])\n",
        "print(raws.shape)\n",
        "print(X.shape)\n",
        "print(y.shape)"
      ],
      "execution_count": 34,
      "outputs": [
        {
          "output_type": "error",
          "ename": "ValueError",
          "evalue": "ignored",
          "traceback": [
            "\u001b[0;31m---------------------------------------------------------------------------\u001b[0m",
            "\u001b[0;31mValueError\u001b[0m                                Traceback (most recent call last)",
            "\u001b[0;32m<ipython-input-34-e6a080890222>\u001b[0m in \u001b[0;36m<module>\u001b[0;34m()\u001b[0m\n\u001b[1;32m      1\u001b[0m \u001b[0;31m# Generamos las imagenes y los outputs\u001b[0m\u001b[0;34m\u001b[0m\u001b[0;34m\u001b[0m\u001b[0;34m\u001b[0m\u001b[0m\n\u001b[0;32m----> 2\u001b[0;31m \u001b[0mraws\u001b[0m\u001b[0;34m,\u001b[0m \u001b[0mX\u001b[0m\u001b[0;34m,\u001b[0m \u001b[0my\u001b[0m \u001b[0;34m=\u001b[0m \u001b[0mread_images\u001b[0m\u001b[0;34m(\u001b[0m\u001b[0mdata\u001b[0m\u001b[0;34m[\u001b[0m\u001b[0mdata\u001b[0m\u001b[0;34m[\u001b[0m\u001b[0;34m'figure'\u001b[0m\u001b[0;34m]\u001b[0m \u001b[0;34m==\u001b[0m \u001b[0;34m'a1'\u001b[0m\u001b[0;34m]\u001b[0m\u001b[0;34m)\u001b[0m\u001b[0;34m\u001b[0m\u001b[0;34m\u001b[0m\u001b[0m\n\u001b[0m\u001b[1;32m      3\u001b[0m \u001b[0mprint\u001b[0m\u001b[0;34m(\u001b[0m\u001b[0mraws\u001b[0m\u001b[0;34m.\u001b[0m\u001b[0mshape\u001b[0m\u001b[0;34m)\u001b[0m\u001b[0;34m\u001b[0m\u001b[0;34m\u001b[0m\u001b[0m\n\u001b[1;32m      4\u001b[0m \u001b[0mprint\u001b[0m\u001b[0;34m(\u001b[0m\u001b[0mX\u001b[0m\u001b[0;34m.\u001b[0m\u001b[0mshape\u001b[0m\u001b[0;34m)\u001b[0m\u001b[0;34m\u001b[0m\u001b[0;34m\u001b[0m\u001b[0m\n\u001b[1;32m      5\u001b[0m \u001b[0mprint\u001b[0m\u001b[0;34m(\u001b[0m\u001b[0my\u001b[0m\u001b[0;34m.\u001b[0m\u001b[0mshape\u001b[0m\u001b[0;34m)\u001b[0m\u001b[0;34m\u001b[0m\u001b[0;34m\u001b[0m\u001b[0m\n",
            "\u001b[0;32m<ipython-input-33-e0dd5703524b>\u001b[0m in \u001b[0;36mread_images\u001b[0;34m(data)\u001b[0m\n\u001b[1;32m     62\u001b[0m       \u001b[0mraws\u001b[0m \u001b[0;34m=\u001b[0m \u001b[0mnp\u001b[0m\u001b[0;34m.\u001b[0m\u001b[0mconcatenate\u001b[0m\u001b[0;34m(\u001b[0m\u001b[0;34m(\u001b[0m\u001b[0mraws\u001b[0m\u001b[0;34m,\u001b[0m \u001b[0mraw\u001b[0m\u001b[0;34m)\u001b[0m\u001b[0;34m,\u001b[0m \u001b[0maxis\u001b[0m\u001b[0;34m=\u001b[0m\u001b[0;36m0\u001b[0m\u001b[0;34m)\u001b[0m\u001b[0;34m\u001b[0m\u001b[0;34m\u001b[0m\u001b[0m\n\u001b[1;32m     63\u001b[0m       \u001b[0mX\u001b[0m \u001b[0;34m=\u001b[0m \u001b[0mnp\u001b[0m\u001b[0;34m.\u001b[0m\u001b[0mconcatenate\u001b[0m\u001b[0;34m(\u001b[0m\u001b[0;34m(\u001b[0m\u001b[0mX\u001b[0m\u001b[0;34m,\u001b[0m \u001b[0mproc\u001b[0m\u001b[0;34m)\u001b[0m\u001b[0;34m,\u001b[0m \u001b[0maxis\u001b[0m\u001b[0;34m=\u001b[0m\u001b[0;36m0\u001b[0m\u001b[0;34m)\u001b[0m\u001b[0;34m\u001b[0m\u001b[0;34m\u001b[0m\u001b[0m\n\u001b[0;32m---> 64\u001b[0;31m       \u001b[0my\u001b[0m \u001b[0;34m=\u001b[0m \u001b[0mnp\u001b[0m\u001b[0;34m.\u001b[0m\u001b[0mconcatenate\u001b[0m\u001b[0;34m(\u001b[0m\u001b[0;34m(\u001b[0m\u001b[0my\u001b[0m\u001b[0;34m,\u001b[0m \u001b[0mlabel\u001b[0m\u001b[0;34m)\u001b[0m\u001b[0;34m,\u001b[0m \u001b[0maxis\u001b[0m\u001b[0;34m=\u001b[0m\u001b[0;36m0\u001b[0m\u001b[0;34m)\u001b[0m\u001b[0;34m\u001b[0m\u001b[0;34m\u001b[0m\u001b[0m\n\u001b[0m\u001b[1;32m     65\u001b[0m   \u001b[0;31m# raws = np.expand_dims(np.array(raws), axis=-1)\u001b[0m\u001b[0;34m\u001b[0m\u001b[0;34m\u001b[0m\u001b[0;34m\u001b[0m\u001b[0m\n\u001b[1;32m     66\u001b[0m   \u001b[0;31m# X = np.expand_dims(np.array(X), axis=-1)\u001b[0m\u001b[0;34m\u001b[0m\u001b[0;34m\u001b[0m\u001b[0;34m\u001b[0m\u001b[0m\n",
            "\u001b[0;32m<__array_function__ internals>\u001b[0m in \u001b[0;36mconcatenate\u001b[0;34m(*args, **kwargs)\u001b[0m\n",
            "\u001b[0;31mValueError\u001b[0m: all the input array dimensions for the concatenation axis must match exactly, but along dimension 1, the array at index 0 has size 2 and the array at index 1 has size 10"
          ]
        }
      ]
    },
    {
      "cell_type": "code",
      "metadata": {
        "id": "5bKQeuVNwuoo",
        "colab_type": "code",
        "colab": {}
      },
      "source": [
        "# Mostramos una imagen con el punto de la figura marcado\n",
        "def show_image(image, point=None):\n",
        "  if point is not None:\n",
        "    cv2_imshow(cv2.circle(cv2.cvtColor(image[:, :, 0], cv2.COLOR_GRAY2BGR), (point[0], point[1]), 3, (0, 0, 255), -1))\n",
        "\n",
        "show_image(raws[50], labels[50])"
      ],
      "execution_count": 0,
      "outputs": []
    },
    {
      "cell_type": "code",
      "metadata": {
        "id": "86DyfgfNebCO",
        "colab_type": "code",
        "colab": {}
      },
      "source": [
        "# Creamos el modelo\n",
        "def create_model():\n",
        "  model = tf.keras.models.Sequential()\n",
        "  model.add(tf.keras.layers.Conv2D(32, (3, 3), activation='relu', input_shape=image_shape))\n",
        "  model.add(tf.keras.layers.MaxPooling2D((2, 2)))\n",
        "  model.add(tf.keras.layers.Flatten())\n",
        "  model.add(tf.keras.layers.Dense(2, activation='relu'))\n",
        "  return model\n",
        "\n",
        "# Creamos los datasets de train y test\n",
        "def generate_datasets(X, y):\n",
        "  return train_test_split(X, y, test_size=test_dataset_size)"
      ],
      "execution_count": 0,
      "outputs": []
    },
    {
      "cell_type": "code",
      "metadata": {
        "id": "Ljd_C2O1gIcR",
        "colab_type": "code",
        "colab": {}
      },
      "source": [
        "model = create_model()\n",
        "train_images, test_images, train_labels, test_labels = generate_datasets(procs, labels)"
      ],
      "execution_count": 0,
      "outputs": []
    },
    {
      "cell_type": "code",
      "metadata": {
        "id": "tNTu6RLwjQS3",
        "colab_type": "code",
        "colab": {}
      },
      "source": [
        "# Compilamos y entrenamos el modelo\n",
        "model.compile(optimizer='adam', loss='mean_squared_error', metrics=['accuracy'])\n",
        "history = model.fit(train_images, train_labels, validation_data=(test_images, test_labels), epochs=10)"
      ],
      "execution_count": 0,
      "outputs": []
    }
  ]
}