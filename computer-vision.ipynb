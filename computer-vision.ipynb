{
  "nbformat": 4,
  "nbformat_minor": 0,
  "metadata": {
    "kernelspec": {
      "display_name": "Python 3",
      "language": "python",
      "name": "python3"
    },
    "language_info": {
      "codemirror_mode": {
        "name": "ipython",
        "version": 3
      },
      "file_extension": ".py",
      "mimetype": "text/x-python",
      "name": "python",
      "nbconvert_exporter": "python",
      "pygments_lexer": "ipython3",
      "version": "3.7.3"
    },
    "colab": {
      "name": "Test.ipynb",
      "provenance": [],
      "include_colab_link": true
    }
  },
  "cells": [
    {
      "cell_type": "markdown",
      "metadata": {
        "id": "view-in-github",
        "colab_type": "text"
      },
      "source": [
        "<a href=\"https://colab.research.google.com/github/jenieto/computer-vision/blob/integrate-google-colab/computer-vision.ipynb\" target=\"_parent\"><img src=\"https://colab.research.google.com/assets/colab-badge.svg\" alt=\"Open In Colab\"/></a>"
      ]
    },
    {
      "cell_type": "markdown",
      "metadata": {
        "id": "4nzKF921nSpb",
        "colab_type": "text"
      },
      "source": [
        "Trabajo M0"
      ]
    },
    {
      "cell_type": "code",
      "metadata": {
        "id": "XuG171gUnSpc",
        "colab_type": "code",
        "colab": {}
      },
      "source": [
        "# Montamos Google Drive\n",
        "from google.colab import drive\n",
        "drive.mount('/content/drive/')\n",
        "!unzip -o \"/content/drive/My Drive/Datasets/computer-vision-M2.zip\" -d /content/"
      ],
      "execution_count": 0,
      "outputs": []
    },
    {
      "cell_type": "code",
      "metadata": {
        "id": "Q8WL4YNeGAkY",
        "colab_type": "code",
        "colab": {}
      },
      "source": [
        "# Importamos librerias\n",
        "import tensorflow as tf\n",
        "import pandas as pd\n",
        "import numpy as np\n",
        "import cv2\n",
        "import os \n",
        "from google.colab.patches import cv2_imshow\n",
        "from sklearn.model_selection import train_test_split"
      ],
      "execution_count": 0,
      "outputs": []
    },
    {
      "cell_type": "code",
      "metadata": {
        "id": "HhYCoKhyGqi-",
        "colab_type": "code",
        "colab": {}
      },
      "source": [
        "# Definimos variables\n",
        "csv_path = '/content/anotaciones_itemsEvaluables_v3.csv'\n",
        "images_path = '/content/dataset1'\n",
        "figure = 'a1'\n",
        "image_shape = (512, 512, 1)\n",
        "test_dataset_size = 0.25"
      ],
      "execution_count": 0,
      "outputs": []
    },
    {
      "cell_type": "code",
      "metadata": {
        "id": "Fz1nGW1upVDO",
        "colab_type": "code",
        "colab": {}
      },
      "source": [
        "# Funciones para leer los datos\n",
        "def filter_figure(data, figure):\n",
        "  filter = data['figure'] == figure\n",
        "  return data[filter]\n",
        "  \n",
        "def read_csv_data(figure=None):\n",
        "  data = pd.read_csv(csv_path, sep=';', names=['dir', 'image', 'figure', 'coords'], index_col=False, skipinitialspace=True)\n",
        "  for key in data.keys():\n",
        "    data[key] = data[key].apply(str.replace, args=(' ', ''))\n",
        "  if figure is not None:\n",
        "    data = filter_figure(data, figure)\n",
        "  return data"
      ],
      "execution_count": 0,
      "outputs": []
    },
    {
      "cell_type": "code",
      "metadata": {
        "id": "3hvEx6y4Idud",
        "colab_type": "code",
        "colab": {
          "base_uri": "https://localhost:8080/",
          "height": 402
        },
        "outputId": "63c5bb63-c99d-4f20-b5b8-f03cebbf196b"
      },
      "source": [
        "# Leemos los datos\n",
        "data = read_csv_data(figure)\n",
        "data"
      ],
      "execution_count": 129,
      "outputs": [
        {
          "output_type": "execute_result",
          "data": {
            "text/html": [
              "<div>\n",
              "<style scoped>\n",
              "    .dataframe tbody tr th:only-of-type {\n",
              "        vertical-align: middle;\n",
              "    }\n",
              "\n",
              "    .dataframe tbody tr th {\n",
              "        vertical-align: top;\n",
              "    }\n",
              "\n",
              "    .dataframe thead th {\n",
              "        text-align: right;\n",
              "    }\n",
              "</style>\n",
              "<table border=\"1\" class=\"dataframe\">\n",
              "  <thead>\n",
              "    <tr style=\"text-align: right;\">\n",
              "      <th></th>\n",
              "      <th>dir</th>\n",
              "      <th>image</th>\n",
              "      <th>figure</th>\n",
              "      <th>coords</th>\n",
              "    </tr>\n",
              "  </thead>\n",
              "  <tbody>\n",
              "    <tr>\n",
              "      <th>5099</th>\n",
              "      <td>REY_roi_manualSelection1</td>\n",
              "      <td>ROI_0_Psic_119Ev5b.pdf_pg-28.jpg</td>\n",
              "      <td>a1</td>\n",
              "      <td>(29,445)</td>\n",
              "    </tr>\n",
              "    <tr>\n",
              "      <th>5100</th>\n",
              "      <td>REY_roi_manualSelection1</td>\n",
              "      <td>ROI_0_Psic_205Ev4.pdf_pg-70.jpg</td>\n",
              "      <td>a1</td>\n",
              "      <td>(34,24)</td>\n",
              "    </tr>\n",
              "    <tr>\n",
              "      <th>5101</th>\n",
              "      <td>REY_roi_manualSelection1</td>\n",
              "      <td>ROI_0_Psic_101Ev5.pdf_pg-27.jpg</td>\n",
              "      <td>a1</td>\n",
              "      <td>(27,41)</td>\n",
              "    </tr>\n",
              "    <tr>\n",
              "      <th>5102</th>\n",
              "      <td>REY_roi_manualSelection1</td>\n",
              "      <td>ROI_90_Psic_029Ev4.pdf_pg-24.jpg</td>\n",
              "      <td>a1</td>\n",
              "      <td>(37,33)</td>\n",
              "    </tr>\n",
              "    <tr>\n",
              "      <th>5103</th>\n",
              "      <td>REY_roi_manualSelection1</td>\n",
              "      <td>ROI_0_Psic_516Ev3.pdf_pg-26.jpg</td>\n",
              "      <td>a1</td>\n",
              "      <td>(39,41)</td>\n",
              "    </tr>\n",
              "    <tr>\n",
              "      <th>...</th>\n",
              "      <td>...</td>\n",
              "      <td>...</td>\n",
              "      <td>...</td>\n",
              "      <td>...</td>\n",
              "    </tr>\n",
              "    <tr>\n",
              "      <th>5418</th>\n",
              "      <td>REY_roi_manualSelection1</td>\n",
              "      <td>ROI_0_Psic_517Ev3.pdf_pg-26.jpg</td>\n",
              "      <td>a1</td>\n",
              "      <td>(35,50)</td>\n",
              "    </tr>\n",
              "    <tr>\n",
              "      <th>5419</th>\n",
              "      <td>REY_roi_manualSelection1</td>\n",
              "      <td>ROI_0_Psic_408Ev2.pdf_pg-35.jpg</td>\n",
              "      <td>a1</td>\n",
              "      <td>(29,34)</td>\n",
              "    </tr>\n",
              "    <tr>\n",
              "      <th>5420</th>\n",
              "      <td>REY_roi_manualSelection1</td>\n",
              "      <td>ROI_0_Psic_210Ev5.pdf_pg-54.jpg</td>\n",
              "      <td>a1</td>\n",
              "      <td>(33,39)</td>\n",
              "    </tr>\n",
              "    <tr>\n",
              "      <th>5421</th>\n",
              "      <td>REY_roi_manualSelection1</td>\n",
              "      <td>ROI_0_Psic_514Ev3.pdf_pg-20.jpg</td>\n",
              "      <td>a1</td>\n",
              "      <td>(34,33)</td>\n",
              "    </tr>\n",
              "    <tr>\n",
              "      <th>5422</th>\n",
              "      <td>REY_roi_manualSelection1</td>\n",
              "      <td>ROI_90_Psic_037Ev4.pdf_pg-20.jpg</td>\n",
              "      <td>a1</td>\n",
              "      <td>(126,372)</td>\n",
              "    </tr>\n",
              "  </tbody>\n",
              "</table>\n",
              "<p>324 rows × 4 columns</p>\n",
              "</div>"
            ],
            "text/plain": [
              "                           dir  ...     coords\n",
              "5099  REY_roi_manualSelection1  ...   (29,445)\n",
              "5100  REY_roi_manualSelection1  ...    (34,24)\n",
              "5101  REY_roi_manualSelection1  ...    (27,41)\n",
              "5102  REY_roi_manualSelection1  ...    (37,33)\n",
              "5103  REY_roi_manualSelection1  ...    (39,41)\n",
              "...                        ...  ...        ...\n",
              "5418  REY_roi_manualSelection1  ...    (35,50)\n",
              "5419  REY_roi_manualSelection1  ...    (29,34)\n",
              "5420  REY_roi_manualSelection1  ...    (33,39)\n",
              "5421  REY_roi_manualSelection1  ...    (34,33)\n",
              "5422  REY_roi_manualSelection1  ...  (126,372)\n",
              "\n",
              "[324 rows x 4 columns]"
            ]
          },
          "metadata": {
            "tags": []
          },
          "execution_count": 129
        }
      ]
    },
    {
      "cell_type": "code",
      "metadata": {
        "id": "s0GLzUrYKBlF",
        "colab_type": "code",
        "colab": {}
      },
      "source": [
        "# Funcion para leer una imagen\n",
        "def read_image(row):\n",
        "  path = os.path.join(images_path, row['dir'], row['image'])\n",
        "  image = cv2.imread(path,0)\n",
        "  if image is not None: # TODO: algunas imagenes no existen\n",
        "    image = cv2.resize(image, dsize=(image_shape[0], image_shape[1]))\n",
        "    image = cv2.normalize(image, None, alpha=0, beta=1, norm_type=cv2.NORM_MINMAX, dtype=cv2.CV_32F)\n",
        "  return image\n",
        "\n",
        "# Funcion para leer las coordenadas\n",
        "def read_label(row, max_points = 1):\n",
        "  coords_split = row['coords'].split('),(')\n",
        "  coords_split = list(map(lambda x : x.replace('(','').replace(')',''), coords_split))\n",
        "  row_coords = []\n",
        "  if len(coords_split) > max_points: # TODO: Que hacemos con estos puntos?\n",
        "    return None\n",
        "  for coords in coords_split:\n",
        "    numbers = coords.split(',')\n",
        "    numbers = list(map(lambda x : int(x), numbers))\n",
        "    row_coords.extend(numbers)\n",
        "  return row_coords\n",
        "\n",
        "# Funcion que devuelve las imagenes y las coordenadas\n",
        "def read_images(data):\n",
        "  images = []\n",
        "  labels = []\n",
        "  for index, row in data.iterrows():\n",
        "    image = read_image(row)\n",
        "    label = read_label(row)\n",
        "    if image is not None and label is not None:\n",
        "      images.append(image)\n",
        "      labels.append(label)\n",
        "  images = np.array(images)\n",
        "  #images = images.reshape(images.shape[0], images.shape[1], images.shape[2], 1)\n",
        "  return images, np.array(labels)"
      ],
      "execution_count": 0,
      "outputs": []
    },
    {
      "cell_type": "code",
      "metadata": {
        "id": "_dDRK2mSLJ6E",
        "colab_type": "code",
        "colab": {
          "base_uri": "https://localhost:8080/",
          "height": 50
        },
        "outputId": "9c0802d3-f95d-4dc5-f99c-95249c233a0a"
      },
      "source": [
        "# Generamos las imagenes y los outputs\n",
        "images, labels = read_images(data)\n",
        "print(images.shape)\n",
        "print(labels.shape)"
      ],
      "execution_count": 173,
      "outputs": [
        {
          "output_type": "stream",
          "text": [
            "(306, 512, 512)\n",
            "(306, 2)\n"
          ],
          "name": "stdout"
        }
      ]
    },
    {
      "cell_type": "code",
      "metadata": {
        "id": "5bKQeuVNwuoo",
        "colab_type": "code",
        "colab": {
          "base_uri": "https://localhost:8080/",
          "height": 269
        },
        "outputId": "260bb788-1492-471b-e30f-7fd18ed3fac6"
      },
      "source": [
        "# Mostramos una imagen con el punto de la figura marcado\n",
        "from matplotlib.pyplot import imshow, Normalize\n",
        "\n",
        "def show_image(image, point=None):\n",
        "  norm = Normalize(vmin=0., vmax=1., clip=True)\n",
        "  if point is not None:\n",
        "    image_with_circle = cv2.circle(image, (point[0], point[1]), 20, (255, 255, 0))\n",
        "  imshow(image_with_circle, norm=norm)\n",
        "\n",
        "show_image(images[50], labels[50])"
      ],
      "execution_count": 184,
      "outputs": [
        {
          "output_type": "display_data",
          "data": {
            "image/png": "[encoded data removed]",
            "text/plain": [
              "<Figure size 432x288 with 1 Axes>"
            ]
          },
          "metadata": {
            "tags": [],
            "needs_background": "light"
          }
        }
      ]
    },
    {
      "cell_type": "code",
      "metadata": {
        "id": "86DyfgfNebCO",
        "colab_type": "code",
        "colab": {}
      },
      "source": [
        "# Creamos el modelo\n",
        "def create_model():\n",
        "  model = tf.keras.models.Sequential()\n",
        "  model.add(tf.keras.layers.Conv2D(32, (3, 3), activation='relu', input_shape=image_shape))\n",
        "  model.add(tf.keras.layers.MaxPooling2D((2, 2)))\n",
        "  model.add(tf.keras.layers.Flatten())\n",
        "  model.add(tf.keras.layers.Dense(2, activation='relu'))\n",
        "  return model\n",
        "\n",
        "# Creamos los datasets de train y test\n",
        "def generate_datasets(images, labels):\n",
        "  return train_test_split(images, labels, test_size=test_dataset_size)"
      ],
      "execution_count": 0,
      "outputs": []
    },
    {
      "cell_type": "code",
      "metadata": {
        "id": "Ljd_C2O1gIcR",
        "colab_type": "code",
        "colab": {}
      },
      "source": [
        "model = create_model()\n",
        "train_images, test_images, train_labels, test_labels = generate_datasets(images, labels)"
      ],
      "execution_count": 0,
      "outputs": []
    },
    {
      "cell_type": "code",
      "metadata": {
        "id": "tNTu6RLwjQS3",
        "colab_type": "code",
        "colab": {
          "base_uri": "https://localhost:8080/",
          "height": 353
        },
        "outputId": "6fbd1647-4c80-48ba-e5bf-eea63ff18759"
      },
      "source": [
        "# Compilamos y entrenamos el modelo\n",
        "model.compile(optimizer='adam', loss='mean_squared_error', metrics=['accuracy'])\n",
        "history = model.fit(train_images, train_labels, validation_data=(test_images, test_labels), epochs=10)"
      ],
      "execution_count": 127,
      "outputs": [
        {
          "output_type": "stream",
          "text": [
            "Epoch 1/10\n",
            "8/8 [==============================] - 2s 206ms/step - loss: 9246.2246 - accuracy: 0.2402 - val_loss: 4029.8938 - val_accuracy: 0.2078\n",
            "Epoch 2/10\n",
            "8/8 [==============================] - 2s 195ms/step - loss: 7229.5532 - accuracy: 0.2402 - val_loss: 3973.1191 - val_accuracy: 0.2078\n",
            "Epoch 3/10\n",
            "8/8 [==============================] - 2s 194ms/step - loss: 6916.0562 - accuracy: 0.2402 - val_loss: 3975.8782 - val_accuracy: 0.2078\n",
            "Epoch 4/10\n",
            "8/8 [==============================] - 2s 194ms/step - loss: 6944.3330 - accuracy: 0.2402 - val_loss: 4017.9695 - val_accuracy: 0.2078\n",
            "Epoch 5/10\n",
            "8/8 [==============================] - 2s 197ms/step - loss: 10798.8750 - accuracy: 0.2402 - val_loss: 3971.2043 - val_accuracy: 0.2078\n",
            "Epoch 6/10\n",
            "8/8 [==============================] - 2s 194ms/step - loss: 6994.5298 - accuracy: 0.2402 - val_loss: 3992.2676 - val_accuracy: 0.2078\n",
            "Epoch 7/10\n",
            "8/8 [==============================] - 2s 196ms/step - loss: 6940.3735 - accuracy: 0.2402 - val_loss: 3971.3704 - val_accuracy: 0.2078\n",
            "Epoch 8/10\n",
            "8/8 [==============================] - 2s 193ms/step - loss: 7269.9604 - accuracy: 0.2402 - val_loss: 4013.5479 - val_accuracy: 0.2078\n",
            "Epoch 9/10\n",
            "8/8 [==============================] - 2s 201ms/step - loss: 6946.0156 - accuracy: 0.2402 - val_loss: 3978.1853 - val_accuracy: 0.2078\n",
            "Epoch 10/10\n",
            "8/8 [==============================] - 2s 197ms/step - loss: 10940.5703 - accuracy: 0.2402 - val_loss: 3990.4160 - val_accuracy: 0.2078\n"
          ],
          "name": "stdout"
        }
      ]
    }
  ]
}