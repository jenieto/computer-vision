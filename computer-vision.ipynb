{
  "nbformat": 4,
  "nbformat_minor": 0,
  "metadata": {
    "kernelspec": {
      "display_name": "Python 3",
      "language": "python",
      "name": "python3"
    },
    "language_info": {
      "codemirror_mode": {
        "name": "ipython",
        "version": 3
      },
      "file_extension": ".py",
      "mimetype": "text/x-python",
      "name": "python",
      "nbconvert_exporter": "python",
      "pygments_lexer": "ipython3",
      "version": "3.7.3"
    },
    "colab": {
      "name": "Test.ipynb",
      "provenance": [],
      "include_colab_link": true
    }
  },
  "cells": [
    {
      "cell_type": "markdown",
      "metadata": {
        "id": "view-in-github",
        "colab_type": "text"
      },
      "source": [
        "<a href=\"https://colab.research.google.com/github/jenieto/computer-vision/blob/use-opencv-imshow/computer-vision.ipynb\" target=\"_parent\"><img src=\"https://colab.research.google.com/assets/colab-badge.svg\" alt=\"Open In Colab\"/></a>"
      ]
    },
    {
      "cell_type": "markdown",
      "metadata": {
        "id": "4nzKF921nSpb",
        "colab_type": "text"
      },
      "source": [
        "Trabajo M0"
      ]
    },
    {
      "cell_type": "code",
      "metadata": {
        "id": "XuG171gUnSpc",
        "colab_type": "code",
        "colab": {}
      },
      "source": [
        "# Montamos Google Drive\n",
        "from google.colab import drive\n",
        "drive.mount('/content/drive/')\n",
        "!unzip -o \"/content/drive/My Drive/Datasets/computer-vision-M2.zip\" -d /content/"
      ],
      "execution_count": 0,
      "outputs": []
    },
    {
      "cell_type": "code",
      "metadata": {
        "id": "Q8WL4YNeGAkY",
        "colab_type": "code",
        "colab": {}
      },
      "source": [
        "# Importamos librerias\n",
        "import tensorflow as tf\n",
        "import pandas as pd\n",
        "import numpy as np\n",
        "import cv2\n",
        "import os \n",
        "from google.colab.patches import cv2_imshow\n",
        "from sklearn.model_selection import train_test_split"
      ],
      "execution_count": 0,
      "outputs": []
    },
    {
      "cell_type": "code",
      "metadata": {
        "id": "HhYCoKhyGqi-",
        "colab_type": "code",
        "colab": {}
      },
      "source": [
        "# Definimos variables\n",
        "csv_path = '/content/computer-vision-M2/anotaciones_itemsEvaluables_v3.csv'\n",
        "images_path = '/content/computer-vision-M2/dataset1'\n",
        "figure = 'a1'\n",
        "image_shape = (512, 512, 1)\n",
        "test_dataset_size = 0.25"
      ],
      "execution_count": 0,
      "outputs": []
    },
    {
      "cell_type": "code",
      "metadata": {
        "id": "Fz1nGW1upVDO",
        "colab_type": "code",
        "colab": {}
      },
      "source": [
        "# Funciones para leer los datos\n",
        "def filter_figure(data, figure):\n",
        "  filter = data['figure'] == figure\n",
        "  return data[filter]\n",
        "  \n",
        "def read_csv_data(figure=None):\n",
        "  data = pd.read_csv(csv_path, sep=';', names=['dir', 'image', 'figure', 'coords'], index_col=False, skipinitialspace=True)\n",
        "  for key in data.keys():\n",
        "    data[key] = data[key].apply(str.replace, args=(' ', ''))\n",
        "  if figure is not None:\n",
        "    data = filter_figure(data, figure)\n",
        "  return data"
      ],
      "execution_count": 0,
      "outputs": []
    },
    {
      "cell_type": "code",
      "metadata": {
        "id": "3hvEx6y4Idud",
        "colab_type": "code",
        "colab": {}
      },
      "source": [
        "# Leemos los datos\n",
        "data = read_csv_data(figure)\n",
        "data"
      ],
      "execution_count": 0,
      "outputs": []
    },
    {
      "cell_type": "code",
      "metadata": {
        "id": "s0GLzUrYKBlF",
        "colab_type": "code",
        "colab": {}
      },
      "source": [
        "# Funcion para leer una imagen\n",
        "def read_image(row):\n",
        "  path = os.path.join(images_path, row['dir'], row['image'])\n",
        "  raw = cv2.imread(path,0)\n",
        "  proc = None\n",
        "  if raw is not None: # TODO: algunas imagenes no existen\n",
        "    raw = cv2.resize(raw, dsize=(image_shape[0], image_shape[1])) # TODO: tendremos que redimensionar los puntos tambien\n",
        "    proc = cv2.normalize(raw, None, alpha=0, beta=1, norm_type=cv2.NORM_MINMAX, dtype=cv2.CV_32F)\n",
        "  return raw, proc\n",
        "\n",
        "# Funcion para leer las coordenadas\n",
        "def read_label(row, max_points = 1):\n",
        "  coords_split = row['coords'].split('),(')\n",
        "  coords_split = list(map(lambda x : x.replace('(','').replace(')',''), coords_split))\n",
        "  row_coords = []\n",
        "  if len(coords_split) > max_points: # TODO: Que hacemos con estos puntos?\n",
        "    return None\n",
        "  for coords in coords_split:\n",
        "    numbers = coords.split(',')\n",
        "    numbers = list(map(lambda x : int(x), numbers))\n",
        "    row_coords.extend(numbers)\n",
        "  return row_coords\n",
        "\n",
        "# Funcion que devuelve las imagenes y las coordenadas\n",
        "def read_images(data):\n",
        "  raws = []\n",
        "  procs = []\n",
        "  labels = []\n",
        "  for index, row in data.iterrows():\n",
        "    raw, proc = read_image(row)\n",
        "    label = read_label(row)\n",
        "    if raw is not None and label is not None:\n",
        "      raws.append(raw)\n",
        "      procs.append(proc)\n",
        "      labels.append(label)\n",
        "  raws = np.expand_dims(np.array(raws), axis=-1)\n",
        "  procs = np.expand_dims(np.array(procs), axis=-1)\n",
        "  labels = np.array(labels)\n",
        "  return raws, procs, labels"
      ],
      "execution_count": 0,
      "outputs": []
    },
    {
      "cell_type": "code",
      "metadata": {
        "id": "_dDRK2mSLJ6E",
        "colab_type": "code",
        "colab": {}
      },
      "source": [
        "# Generamos las imagenes y los outputs\n",
        "raws, procs, labels = read_images(data)\n",
        "print(raws.shape)\n",
        "print(procs.shape)\n",
        "print(labels.shape)"
      ],
      "execution_count": 0,
      "outputs": []
    },
    {
      "cell_type": "code",
      "metadata": {
        "id": "5bKQeuVNwuoo",
        "colab_type": "code",
        "colab": {}
      },
      "source": [
        "# Mostramos una imagen con el punto de la figura marcado\n",
        "def show_image(image, point=None):\n",
        "  if point is not None:\n",
        "    image_with_circle = cv2.circle(image, (point[0], point[1]), 3, (0, 0, 0), -1)\n",
        "  cv2_imshow(image_with_circle)\n",
        "\n",
        "show_image(raws[50], labels[50])"
      ],
      "execution_count": 0,
      "outputs": []
    },
    {
      "cell_type": "code",
      "metadata": {
        "id": "86DyfgfNebCO",
        "colab_type": "code",
        "colab": {}
      },
      "source": [
        "# Creamos el modelo\n",
        "def create_model():\n",
        "  model = tf.keras.models.Sequential()\n",
        "  model.add(tf.keras.layers.Conv2D(32, (3, 3), activation='relu', input_shape=image_shape))\n",
        "  model.add(tf.keras.layers.MaxPooling2D((2, 2)))\n",
        "  model.add(tf.keras.layers.Flatten())\n",
        "  model.add(tf.keras.layers.Dense(2, activation='relu'))\n",
        "  return model\n",
        "\n",
        "# Creamos los datasets de train y test\n",
        "def generate_datasets(images, labels):\n",
        "  return train_test_split(images, labels, test_size=test_dataset_size)"
      ],
      "execution_count": 0,
      "outputs": []
    },
    {
      "cell_type": "code",
      "metadata": {
        "id": "Ljd_C2O1gIcR",
        "colab_type": "code",
        "colab": {}
      },
      "source": [
        "model = create_model()\n",
        "train_images, test_images, train_labels, test_labels = generate_datasets(procs, labels)"
      ],
      "execution_count": 0,
      "outputs": []
    },
    {
      "cell_type": "code",
      "metadata": {
        "id": "tNTu6RLwjQS3",
        "colab_type": "code",
        "colab": {}
      },
      "source": [
        "# Compilamos y entrenamos el modelo\n",
        "model.compile(optimizer='adam', loss='mean_squared_error', metrics=['accuracy'])\n",
        "history = model.fit(train_images, train_labels, validation_data=(test_images, test_labels), epochs=10)"
      ],
      "execution_count": 0,
      "outputs": []
    }
  ]
}