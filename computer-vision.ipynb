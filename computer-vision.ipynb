{
  "nbformat": 4,
  "nbformat_minor": 0,
  "metadata": {
    "kernelspec": {
      "display_name": "Python 3",
      "language": "python",
      "name": "python3"
    },
    "language_info": {
      "codemirror_mode": {
        "name": "ipython",
        "version": 3
      },
      "file_extension": ".py",
      "mimetype": "text/x-python",
      "name": "python",
      "nbconvert_exporter": "python",
      "pygments_lexer": "ipython3",
      "version": "3.7.3"
    },
    "colab": {
      "name": "Test.ipynb",
      "provenance": [],
      "include_colab_link": true
    }
  },
  "cells": [
    {
      "cell_type": "markdown",
      "metadata": {
        "id": "view-in-github",
        "colab_type": "text"
      },
      "source": [
        "<a href=\"https://colab.research.google.com/github/jenieto/computer-vision/blob/integrate-google-colab/computer-vision.ipynb\" target=\"_parent\"><img src=\"https://colab.research.google.com/assets/colab-badge.svg\" alt=\"Open In Colab\"/></a>"
      ]
    },
    {
      "cell_type": "markdown",
      "metadata": {
        "id": "4nzKF921nSpb",
        "colab_type": "text"
      },
      "source": [
        "This is a test!!"
      ]
    },
    {
      "cell_type": "code",
      "metadata": {
        "id": "XuG171gUnSpc",
        "colab_type": "code",
        "colab": {}
      },
      "source": [
        "# Montamos Google Drive\n",
        "from google.colab import drive\n",
        "drive.mount('/content/drive/')\n",
        "!unzip -o \"/content/drive/My Drive/Datasets/computer-vision-M2.zip\" -d /content/"
      ],
      "execution_count": 0,
      "outputs": []
    },
    {
      "cell_type": "code",
      "metadata": {
        "id": "Q8WL4YNeGAkY",
        "colab_type": "code",
        "colab": {}
      },
      "source": [
        "# Importamos librerias\n",
        "import tensorflow as tf\n",
        "import pandas as pd\n",
        "import numpy as np\n",
        "import cv2\n",
        "import os \n",
        "from google.colab.patches import cv2_imshow"
      ],
      "execution_count": 0,
      "outputs": []
    },
    {
      "cell_type": "code",
      "metadata": {
        "id": "HhYCoKhyGqi-",
        "colab_type": "code",
        "colab": {}
      },
      "source": [
        "csv_path = '/content/anotaciones_itemsEvaluables_v3.csv'\n",
        "images_path = '/content/dataset1'\n",
        "figure = 'a1'\n",
        "\n",
        "def read_data():\n",
        "  data = pd.read_csv(csv_path, sep=';', names=['dir', 'image', 'figure', 'coords'], index_col=False, skipinitialspace=True)\n",
        "  for key in data.keys():\n",
        "    data[key] = data[key].apply(str.replace, args=(' ', ''))\n",
        "  return data\n",
        "\n",
        "def filter_figure(data, figure):\n",
        "  filter = data['figure'] == figure\n",
        "  return data[filter]"
      ],
      "execution_count": 0,
      "outputs": []
    },
    {
      "cell_type": "code",
      "metadata": {
        "id": "3hvEx6y4Idud",
        "colab_type": "code",
        "colab": {
          "base_uri": "https://localhost:8080/",
          "height": 419
        },
        "outputId": "34bdb4bd-0de5-4dcd-c6b2-8c6cb7ab2044"
      },
      "source": [
        "# Leemos los datos\n",
        "data = read_data()\n",
        "data = filter_figure(data, figure)\n",
        "data"
      ],
      "execution_count": 25,
      "outputs": [
        {
          "output_type": "execute_result",
          "data": {
            "text/html": [
              "<div>\n",
              "<style scoped>\n",
              "    .dataframe tbody tr th:only-of-type {\n",
              "        vertical-align: middle;\n",
              "    }\n",
              "\n",
              "    .dataframe tbody tr th {\n",
              "        vertical-align: top;\n",
              "    }\n",
              "\n",
              "    .dataframe thead th {\n",
              "        text-align: right;\n",
              "    }\n",
              "</style>\n",
              "<table border=\"1\" class=\"dataframe\">\n",
              "  <thead>\n",
              "    <tr style=\"text-align: right;\">\n",
              "      <th></th>\n",
              "      <th>dir</th>\n",
              "      <th>image</th>\n",
              "      <th>figure</th>\n",
              "      <th>coords</th>\n",
              "    </tr>\n",
              "  </thead>\n",
              "  <tbody>\n",
              "    <tr>\n",
              "      <th>5099</th>\n",
              "      <td>REY_roi_manualSelection1</td>\n",
              "      <td>ROI_0_Psic_119Ev5b.pdf_pg-28.jpg</td>\n",
              "      <td>a1</td>\n",
              "      <td>(29,445)</td>\n",
              "    </tr>\n",
              "    <tr>\n",
              "      <th>5100</th>\n",
              "      <td>REY_roi_manualSelection1</td>\n",
              "      <td>ROI_0_Psic_205Ev4.pdf_pg-70.jpg</td>\n",
              "      <td>a1</td>\n",
              "      <td>(34,24)</td>\n",
              "    </tr>\n",
              "    <tr>\n",
              "      <th>5101</th>\n",
              "      <td>REY_roi_manualSelection1</td>\n",
              "      <td>ROI_0_Psic_101Ev5.pdf_pg-27.jpg</td>\n",
              "      <td>a1</td>\n",
              "      <td>(27,41)</td>\n",
              "    </tr>\n",
              "    <tr>\n",
              "      <th>5102</th>\n",
              "      <td>REY_roi_manualSelection1</td>\n",
              "      <td>ROI_90_Psic_029Ev4.pdf_pg-24.jpg</td>\n",
              "      <td>a1</td>\n",
              "      <td>(37,33)</td>\n",
              "    </tr>\n",
              "    <tr>\n",
              "      <th>5103</th>\n",
              "      <td>REY_roi_manualSelection1</td>\n",
              "      <td>ROI_0_Psic_516Ev3.pdf_pg-26.jpg</td>\n",
              "      <td>a1</td>\n",
              "      <td>(39,41)</td>\n",
              "    </tr>\n",
              "    <tr>\n",
              "      <th>...</th>\n",
              "      <td>...</td>\n",
              "      <td>...</td>\n",
              "      <td>...</td>\n",
              "      <td>...</td>\n",
              "    </tr>\n",
              "    <tr>\n",
              "      <th>5418</th>\n",
              "      <td>REY_roi_manualSelection1</td>\n",
              "      <td>ROI_0_Psic_517Ev3.pdf_pg-26.jpg</td>\n",
              "      <td>a1</td>\n",
              "      <td>(35,50)</td>\n",
              "    </tr>\n",
              "    <tr>\n",
              "      <th>5419</th>\n",
              "      <td>REY_roi_manualSelection1</td>\n",
              "      <td>ROI_0_Psic_408Ev2.pdf_pg-35.jpg</td>\n",
              "      <td>a1</td>\n",
              "      <td>(29,34)</td>\n",
              "    </tr>\n",
              "    <tr>\n",
              "      <th>5420</th>\n",
              "      <td>REY_roi_manualSelection1</td>\n",
              "      <td>ROI_0_Psic_210Ev5.pdf_pg-54.jpg</td>\n",
              "      <td>a1</td>\n",
              "      <td>(33,39)</td>\n",
              "    </tr>\n",
              "    <tr>\n",
              "      <th>5421</th>\n",
              "      <td>REY_roi_manualSelection1</td>\n",
              "      <td>ROI_0_Psic_514Ev3.pdf_pg-20.jpg</td>\n",
              "      <td>a1</td>\n",
              "      <td>(34,33)</td>\n",
              "    </tr>\n",
              "    <tr>\n",
              "      <th>5422</th>\n",
              "      <td>REY_roi_manualSelection1</td>\n",
              "      <td>ROI_90_Psic_037Ev4.pdf_pg-20.jpg</td>\n",
              "      <td>a1</td>\n",
              "      <td>(126,372)</td>\n",
              "    </tr>\n",
              "  </tbody>\n",
              "</table>\n",
              "<p>324 rows × 4 columns</p>\n",
              "</div>"
            ],
            "text/plain": [
              "                           dir  ...     coords\n",
              "5099  REY_roi_manualSelection1  ...   (29,445)\n",
              "5100  REY_roi_manualSelection1  ...    (34,24)\n",
              "5101  REY_roi_manualSelection1  ...    (27,41)\n",
              "5102  REY_roi_manualSelection1  ...    (37,33)\n",
              "5103  REY_roi_manualSelection1  ...    (39,41)\n",
              "...                        ...  ...        ...\n",
              "5418  REY_roi_manualSelection1  ...    (35,50)\n",
              "5419  REY_roi_manualSelection1  ...    (29,34)\n",
              "5420  REY_roi_manualSelection1  ...    (33,39)\n",
              "5421  REY_roi_manualSelection1  ...    (34,33)\n",
              "5422  REY_roi_manualSelection1  ...  (126,372)\n",
              "\n",
              "[324 rows x 4 columns]"
            ]
          },
          "metadata": {
            "tags": []
          },
          "execution_count": 25
        }
      ]
    },
    {
      "cell_type": "code",
      "metadata": {
        "id": "s0GLzUrYKBlF",
        "colab_type": "code",
        "colab": {}
      },
      "source": [
        "def generate_images(data):\n",
        "  images = []\n",
        "  for index, row in data.iterrows():\n",
        "    path = os.path.join(images_path, row['dir'], row['image'])\n",
        "    image = cv2.imread(path)\n",
        "    images.append(image)\n",
        "  return np.array(images)\n",
        "\n",
        "def generate_labels(data):\n",
        "  labels = []\n",
        "  for index, row in data.iterrows():\n",
        "    coords_split = row['coords'].split('),(')\n",
        "    coords_split = map(lambda x : x.replace('(','').replace(')',''), coords_split)\n",
        "    row_coords = []\n",
        "    for coords in coords_split:\n",
        "      numbers = map(lambda x : int(x), coords.split(','))\n",
        "      row_coords.extend(numbers)\n",
        "    labels.append(row_coords)\n",
        "  return np.array(labels)"
      ],
      "execution_count": 0,
      "outputs": []
    },
    {
      "cell_type": "code",
      "metadata": {
        "id": "_dDRK2mSLJ6E",
        "colab_type": "code",
        "colab": {}
      },
      "source": [
        "# Generamos las imagenes y los outputs\n",
        "images = generate_images(data)\n",
        "labels = generate_labels(data)\n",
        "labels"
      ],
      "execution_count": 0,
      "outputs": []
    }
  ]
}